{
 "cells": [
  {
   "cell_type": "markdown",
   "metadata": {},
   "source": [
    "# Primeros pasos en Python\n",
    "* Variables\n",
    "* Operadores Matematicos\n",
    "* Operadores de Comparacion\n",
    "* Operadores Logicos \n",
    "* Estructura de Control\n",
    "    - Condicionales\n",
    "    - Ciclos finitos e infinitos\n",
    "    - Funciones\n",
    "* Estrucuturas de Datos Basicas\n",
    "    - Cadenas\n",
    "    - Numeros enteros / flotantes\n",
    "    - Listas\n",
    "    - Diccionarios\n",
    "    - Tuplas\n",
    "* Fundamentos de POO\n"
   ]
  },
  {
   "cell_type": "code",
   "execution_count": 4,
   "metadata": {},
   "outputs": [
    {
     "name": "stdout",
     "output_type": "stream",
     "text": [
      "epale\n"
     ]
    }
   ],
   "source": [
    "print(\"epale\")"
   ]
  },
  {
   "cell_type": "code",
   "execution_count": 9,
   "metadata": {},
   "outputs": [
    {
     "name": "stdout",
     "output_type": "stream",
     "text": [
      "Guillermo Silva\n"
     ]
    }
   ],
   "source": [
    "# variables\n",
    "name = \"Guillermo\"\n",
    "last_name = \"Silva\"\n",
    "\n",
    "print(name , last_name)"
   ]
  },
  {
   "cell_type": "code",
   "execution_count": 10,
   "metadata": {},
   "outputs": [
    {
     "data": {
      "text/plain": [
       "'Silva'"
      ]
     },
     "execution_count": 10,
     "metadata": {},
     "output_type": "execute_result"
    }
   ],
   "source": [
    "last_name"
   ]
  },
  {
   "cell_type": "code",
   "execution_count": 11,
   "metadata": {},
   "outputs": [],
   "source": [
    "number1 = 10\n",
    "number2 = 20\n",
    "number3 = 30.55"
   ]
  },
  {
   "cell_type": "code",
   "execution_count": 24,
   "metadata": {},
   "outputs": [],
   "source": [
    "# Operadores Matematicos\n",
    "result_add = number1 + number2\n",
    "result_sub = number2 - number1\n",
    "result_mult = number3 * number2\n",
    "result_div = number2 / number1"
   ]
  },
  {
   "cell_type": "code",
   "execution_count": 26,
   "metadata": {},
   "outputs": [
    {
     "name": "stdout",
     "output_type": "stream",
     "text": [
      "Resultado de la Suma:  30\n",
      "Resultado de la Resta:  10\n",
      "Resultado de la Multiplicacion:  611.0\n",
      "Resultado de la Division: 2.0\n"
     ]
    }
   ],
   "source": [
    "print(\"Resultado de la Suma: \", result_add)\n",
    "print(\"Resultado de la Resta: \", result_sub)\n",
    "print(\"Resultado de la Multiplicacion: \", result_mult)\n",
    "print(f\"Resultado de la Division: {result_div}\")"
   ]
  },
  {
   "cell_type": "code",
   "execution_count": 27,
   "metadata": {},
   "outputs": [
    {
     "data": {
      "text/plain": [
       "False"
      ]
     },
     "execution_count": 27,
     "metadata": {},
     "output_type": "execute_result"
    }
   ],
   "source": [
    "# Operadores Booleanos\n",
    "True\n",
    "False"
   ]
  },
  {
   "cell_type": "code",
   "execution_count": 28,
   "metadata": {},
   "outputs": [],
   "source": [
    "# Operadores de comparacion\n",
    "# Mayor >\n",
    "# Menor <\n",
    "# Mayor o igual >=\n",
    "# Menor o igual <=\n",
    "# igual? ==\n",
    "# Diferente !="
   ]
  },
  {
   "cell_type": "code",
   "execution_count": 29,
   "metadata": {},
   "outputs": [
    {
     "data": {
      "text/plain": [
       "False"
      ]
     },
     "execution_count": 29,
     "metadata": {},
     "output_type": "execute_result"
    }
   ],
   "source": [
    "3 > 5"
   ]
  },
  {
   "cell_type": "code",
   "execution_count": 30,
   "metadata": {},
   "outputs": [
    {
     "data": {
      "text/plain": [
       "True"
      ]
     },
     "execution_count": 30,
     "metadata": {},
     "output_type": "execute_result"
    }
   ],
   "source": [
    "7 != 1"
   ]
  },
  {
   "cell_type": "code",
   "execution_count": 31,
   "metadata": {},
   "outputs": [
    {
     "data": {
      "text/plain": [
       "False"
      ]
     },
     "execution_count": 31,
     "metadata": {},
     "output_type": "execute_result"
    }
   ],
   "source": [
    "result_div > result_add"
   ]
  },
  {
   "cell_type": "code",
   "execution_count": 36,
   "metadata": {},
   "outputs": [
    {
     "name": "stdout",
     "output_type": "stream",
     "text": [
      "El resultado de la suma 30, es mayor que el resultado de la resta 10\n"
     ]
    }
   ],
   "source": [
    "# Condicional Simple\n",
    "if result_add > result_sub:\n",
    "    print(f\"El resultado de la suma {result_add}, es mayor que el resultado de la resta {result_sub}\")"
   ]
  },
  {
   "cell_type": "code",
   "execution_count": 38,
   "metadata": {},
   "outputs": [
    {
     "name": "stdout",
     "output_type": "stream",
     "text": [
      "El resultado de la resta 10, es mayor que el resultado de la suma 30\n"
     ]
    }
   ],
   "source": [
    "if result_add < result_sub:\n",
    "    print(f\"El resultado de la suma {result_add}, es mayor que el resultado de la resta {result_sub}\")\n",
    "else:\n",
    "    print(f\"El resultado de la resta {result_sub}, es mayor que el resultado de la suma {result_add}\")"
   ]
  }
 ],
 "metadata": {
  "kernelspec": {
   "display_name": "Python 3",
   "language": "python",
   "name": "python3"
  },
  "language_info": {
   "codemirror_mode": {
    "name": "ipython",
    "version": 3
   },
   "file_extension": ".py",
   "mimetype": "text/x-python",
   "name": "python",
   "nbconvert_exporter": "python",
   "pygments_lexer": "ipython3",
   "version": "3.13.0"
  }
 },
 "nbformat": 4,
 "nbformat_minor": 2
}
